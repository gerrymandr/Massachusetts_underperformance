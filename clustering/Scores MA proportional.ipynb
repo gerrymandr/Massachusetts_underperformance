{
 "cells": [
  {
   "cell_type": "code",
   "execution_count": 32,
   "metadata": {},
   "outputs": [],
   "source": [
    "import networkx as nx\n",
    "import numpy as np\n",
    "import drawing_general as draw\n",
    "import energy_new as en\n",
    "import ising\n",
    "from tqdm import tqdm_notebook as tqdm\n",
    "import matplotlib.pyplot as plt\n",
    "from stats import *\n",
    "from random import choices \n",
    "import preprocessing_gen as pre"
   ]
  },
  {
   "cell_type": "code",
   "execution_count": 33,
   "metadata": {},
   "outputs": [
    {
     "name": "stderr",
     "output_type": "stream",
     "text": [
      "/Users/Heather/miniconda2/envs/vrdi/lib/python3.6/site-packages/pysal/weights/weights.py:189: UserWarning: There are 2 disconnected observations\n",
      "  warnings.warn(\"There are %d disconnected observations\" % ni)\n",
      "/Users/Heather/miniconda2/envs/vrdi/lib/python3.6/site-packages/pysal/weights/weights.py:190: UserWarning: Island ids: 197, 109\n",
      "  warnings.warn(\"Island ids: %s\" % ', '.join(str(island) for island in self.islands))\n"
     ]
    }
   ],
   "source": [
    "config_file = 'sample_config_gen.txt'\n",
    "dual_graph, data_vectors, pos, node_size = pre.get_data(config_file)"
   ]
  },
  {
   "cell_type": "code",
   "execution_count": 34,
   "metadata": {},
   "outputs": [
    {
     "name": "stdout",
     "output_type": "stream",
     "text": [
      "1\n",
      "actual capy score\n",
      "[[0.51356801]]\n",
      "min_prop\n",
      "0.35210656239366184\n",
      "prop capy\n",
      "[[0.5]]\n",
      "2\n",
      "actual capy score\n",
      "[[0.50639091]]\n",
      "min_prop\n",
      "0.25395912259470643\n",
      "prop capy\n",
      "[[0.5]]\n",
      "3\n",
      "actual capy score\n",
      "[[0.50352648]]\n",
      "min_prop\n",
      "0.18716984608127513\n",
      "prop capy\n",
      "[[0.5]]\n",
      "4\n",
      "actual capy score\n",
      "[[0.51827612]]\n",
      "min_prop\n",
      "0.3725714448700811\n",
      "prop capy\n",
      "[[0.5]]\n",
      "5\n",
      "actual capy score\n",
      "[[0.51713649]]\n",
      "min_prop\n",
      "0.3059432910783575\n",
      "prop capy\n",
      "[[0.5]]\n",
      "6\n",
      "actual capy score\n",
      "[[0.52102792]]\n",
      "min_prop\n",
      "0.36802921786647047\n",
      "prop capy\n",
      "[[0.5]]\n",
      "7\n",
      "actual capy score\n",
      "[[0.51817805]]\n",
      "min_prop\n",
      "0.31954390897503054\n",
      "prop capy\n",
      "[[0.5]]\n",
      "8\n",
      "actual capy score\n",
      "[[0.532988]]\n",
      "min_prop\n",
      "0.5240724814594989\n",
      "prop capy\n",
      "[[0.5]]\n",
      "9\n",
      "actual capy score\n",
      "[[0.52434409]]\n",
      "min_prop\n",
      "0.38214319250939993\n",
      "prop capy\n",
      "[[0.5]]\n",
      "10\n",
      "actual capy score\n",
      "[[0.5272587]]\n",
      "min_prop\n",
      "0.4622276101209931\n",
      "prop capy\n",
      "[[0.5]]\n",
      "11\n",
      "actual capy score\n",
      "[[0.53660096]]\n",
      "min_prop\n",
      "0.44869808394035887\n",
      "prop capy\n",
      "[[0.5]]\n",
      "12\n",
      "actual capy score\n",
      "[[0.52760277]]\n",
      "min_prop\n",
      "0.3803988099298043\n",
      "prop capy\n",
      "[[0.5]]\n",
      "13\n",
      "actual capy score\n",
      "[[0.53449278]]\n",
      "min_prop\n",
      "0.35348721310370507\n",
      "prop capy\n",
      "[[0.5]]\n"
     ]
    }
   ],
   "source": [
    "for i in range(13):\n",
    "    repvote = data_vectors[2*i+1]\n",
    "    demvote = data_vectors[2*i+2]\n",
    "    \n",
    "    print(i+1)\n",
    "\n",
    "    print('actual capy score')\n",
    "    print(en.sparse_inner_capy(repvote, demvote, A))\n",
    "\n",
    "    repvote_copy = np.copy(repvote)\n",
    "    demvote_copy = np.copy(demvote)\n",
    "\n",
    "    #vector of the total number of votes in each precinct, indexed in order of nodelist \n",
    "    total = repvote_copy + demvote_copy \n",
    "    pop_count = np.sum(total)\n",
    "    min_prop = np.sum(repvote_copy)/pop_count\n",
    "    print('min_prop')\n",
    "    print(min_prop)\n",
    "    for i in range(len(total)):\n",
    "        repvote_copy[i] = min_prop*total[i]\n",
    "\n",
    "    A = nx.to_scipy_sparse_matrix(dual_graph)\n",
    "    capy_score = en.sparse_inner_capy(repvote_copy, total-repvote_copy, A)\n",
    "    print('prop capy')\n",
    "    print(capy_score)"
   ]
  },
  {
   "cell_type": "code",
   "execution_count": 30,
   "metadata": {},
   "outputs": [
    {
     "name": "stdout",
     "output_type": "stream",
     "text": [
      "0.3461734767945541\n"
     ]
    }
   ],
   "source": []
  },
  {
   "cell_type": "code",
   "execution_count": null,
   "metadata": {},
   "outputs": [],
   "source": []
  }
 ],
 "metadata": {
  "kernelspec": {
   "display_name": "Python 3",
   "language": "python",
   "name": "python3"
  },
  "language_info": {
   "codemirror_mode": {
    "name": "ipython",
    "version": 3
   },
   "file_extension": ".py",
   "mimetype": "text/x-python",
   "name": "python",
   "nbconvert_exporter": "python",
   "pygments_lexer": "ipython3",
   "version": "3.6.5"
  }
 },
 "nbformat": 4,
 "nbformat_minor": 2
}
