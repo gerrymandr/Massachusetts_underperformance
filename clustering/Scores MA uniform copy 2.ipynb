{
 "cells": [
  {
   "cell_type": "code",
   "execution_count": 8,
   "metadata": {},
   "outputs": [],
   "source": [
    "import networkx as nx\n",
    "import numpy as np\n",
    "import drawing_general as draw\n",
    "import energy_new as en\n",
    "import ising\n",
    "from tqdm import tqdm_notebook as tqdm\n",
    "import matplotlib.pyplot as plt\n",
    "from stats import *\n",
    "from random import choices \n",
    "import preprocessing_gen as pre"
   ]
  },
  {
   "cell_type": "code",
   "execution_count": 9,
   "metadata": {},
   "outputs": [
    {
     "name": "stderr",
     "output_type": "stream",
     "text": [
      "/Users/Heather/miniconda2/envs/vrdi/lib/python3.6/site-packages/pysal/weights/weights.py:189: UserWarning: There are 2 disconnected observations\n",
      "  warnings.warn(\"There are %d disconnected observations\" % ni)\n",
      "/Users/Heather/miniconda2/envs/vrdi/lib/python3.6/site-packages/pysal/weights/weights.py:190: UserWarning: Island ids: 197, 109\n",
      "  warnings.warn(\"Island ids: %s\" % ', '.join(str(island) for island in self.islands))\n"
     ]
    }
   ],
   "source": [
    "config_file = 'sample_config_gen.txt'\n",
    "dual_graph, data_vectors, pos, node_size = pre.get_data(config_file)"
   ]
  },
  {
   "cell_type": "code",
   "execution_count": 14,
   "metadata": {},
   "outputs": [
    {
     "name": "stdout",
     "output_type": "stream",
     "text": [
      "0\n",
      "[[0.50006938]]\n",
      "[[0.5000215]]\n",
      "[[0.50010434]]\n",
      "1\n",
      "[[0.50005537]]\n",
      "[[0.50001745]]\n",
      "[[0.5000808]]\n",
      "2\n",
      "[[0.5000693]]\n",
      "[[0.50003846]]\n",
      "[[0.50010582]]\n",
      "3\n",
      "[[0.50005929]]\n",
      "[[0.50004049]]\n",
      "[[0.50009873]]\n",
      "4\n",
      "[[0.500075]]\n",
      "[[0.50003339]]\n",
      "[[0.50010802]]\n",
      "5\n",
      "[[0.50005287]]\n",
      "[[0.50002919]]\n",
      "[[0.50008534]]\n",
      "6\n",
      "[[0.50005665]]\n",
      "[[0.50003638]]\n",
      "[[0.50008996]]\n",
      "7\n",
      "[[0.50010274]]\n",
      "[[0.50003882]]\n",
      "[[0.50017237]]\n",
      "8\n",
      "[[0.50005284]]\n",
      "[[0.50003524]]\n",
      "[[0.50007223]]\n",
      "9\n",
      "[[0.5000574]]\n",
      "[[0.50003229]]\n",
      "[[0.50008421]]\n",
      "10\n",
      "[[0.50015826]]\n",
      "[[0.50008047]]\n",
      "[[0.50028837]]\n",
      "11\n",
      "[[0.50008721]]\n",
      "[[0.5000512]]\n",
      "[[0.50013074]]\n",
      "12\n",
      "[[0.50004996]]\n",
      "[[0.50002927]]\n",
      "[[0.50007933]]\n"
     ]
    }
   ],
   "source": [
    "for j in range(13):\n",
    "    running_total_score = 0\n",
    "    print(j)\n",
    "    min_score = 1\n",
    "    max_score = 0 \n",
    "    for i in range(30):\n",
    "        repvote = data_vectors[2*j+1]\n",
    "        demvote = data_vectors[2*j+2]\n",
    "        repvote_copy = np.copy(repvote)\n",
    "        demvote_copy = np.copy(demvote)\n",
    "        #vector of the total number of votes in each precinct, indexed in order of nodelist \n",
    "        total = repvote_copy + demvote_copy \n",
    "        #total population \n",
    "        pop_count = np.sum(total)\n",
    "        #choose node according to its weight\n",
    "        #drop a certain, fixed amount on it \n",
    "        min_prop = np.sum(repvote_copy)/pop_count \n",
    "        drop_number = 10\n",
    "        population_weights = []\n",
    "        for i in range(total.size):\n",
    "            population_weights.append(total[i]/pop_count)\n",
    "        #dictionary of minority population \n",
    "        d = {}\n",
    "        for node in dual_graph.nodes():\n",
    "            d[node]=0\n",
    "        #create a dictionary of the indices of nodes \n",
    "        indices = {}\n",
    "        count = 0 \n",
    "        for node in dual_graph.nodes():\n",
    "            indices[node]=count \n",
    "            count += 1\n",
    "        states = [node for node in dual_graph.nodes()]\n",
    "        count = 0 \n",
    "        while count < min_prop*pop_count:\n",
    "            node_choice = choices(states, population_weights)[0]\n",
    "            if d[node_choice] < total[indices[node_choice]] - drop_number:\n",
    "                d[node_choice] += drop_number\n",
    "                count += drop_number\n",
    "                #print(count)\n",
    "            else:\n",
    "                old = d[node_choice]\n",
    "                d[node_choice] = total[indices[node_choice]]\n",
    "                count += d[node_choice] - old\n",
    "        idx = 0\n",
    "        for node in dual_graph.nodes():\n",
    "            repvote_copy[idx]=d[node]\n",
    "            idx += 1 \n",
    "        A = nx.to_scipy_sparse_matrix(dual_graph)\n",
    "        capy_score = en.sparse_inner_capy(repvote_copy, total-repvote_copy, A)\n",
    "        #print(capy_score)\n",
    "        min_score = min(min_score, capy_score)\n",
    "        max_score = max(max_score, capy_score)\n",
    "        running_total_score += capy_score \n",
    "    print(running_total_score/30)\n",
    "    print(min_score)\n",
    "    print(max_score)"
   ]
  }
 ],
 "metadata": {
  "kernelspec": {
   "display_name": "Python 3",
   "language": "python",
   "name": "python3"
  },
  "language_info": {
   "codemirror_mode": {
    "name": "ipython",
    "version": 3
   },
   "file_extension": ".py",
   "mimetype": "text/x-python",
   "name": "python",
   "nbconvert_exporter": "python",
   "pygments_lexer": "ipython3",
   "version": "3.6.5"
  }
 },
 "nbformat": 4,
 "nbformat_minor": 2
}
